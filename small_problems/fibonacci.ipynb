{
 "cells": [
  {
   "cell_type": "code",
   "execution_count": 4,
   "metadata": {},
   "outputs": [
    {
     "name": "stdout",
     "output_type": "stream",
     "text": [
      "19\n"
     ]
    }
   ],
   "source": [
    "# a memoized recursive approach \n",
    "from typing import Dict\n",
    "memo : Dict[int,int] = {0:0,1:1} # base cases\n",
    "count = 0\n",
    "def fib(n:int) -> int:\n",
    "    global count\n",
    "    count += 1\n",
    "    if n not in memo:\n",
    "        memo[n] = fib(n-1) + fib(n-2)\n",
    "    return memo[n]\n",
    "\n",
    "fib(10)\n",
    "print(count)"
   ]
  },
  {
   "cell_type": "code",
   "execution_count": 6,
   "metadata": {},
   "outputs": [
    {
     "name": "stdout",
     "output_type": "stream",
     "text": [
      "11\n"
     ]
    }
   ],
   "source": [
    "# auto memoization using python decorator \n",
    "from functools import lru_cache\n",
    "count = 0\n",
    "@lru_cache(maxsize=None)\n",
    "def fib(n:int)->int:\n",
    "    global count\n",
    "    count += 1\n",
    "    if n<2:\n",
    "        return n\n",
    "    return fib(n-1) + fib(n-2)\n",
    "fib(10)\n",
    "print(count)"
   ]
  },
  {
   "cell_type": "code",
   "execution_count": 10,
   "metadata": {},
   "outputs": [
    {
     "name": "stdout",
     "output_type": "stream",
     "text": [
      "9\n"
     ]
    }
   ],
   "source": [
    "# using a more perfomant iterative approach \n",
    "count = 0 \n",
    "def fib(n:int)->int:\n",
    "    global count\n",
    "    if n == 0:return n\n",
    "    last : int = 0\n",
    "    next : int = 1 \n",
    "    for _ in range(1,n):\n",
    "        count += 1\n",
    "        last,next = next , last+next\n",
    "    return next\n",
    "fib(10)\n",
    "print(count)"
   ]
  },
  {
   "cell_type": "code",
   "execution_count": 15,
   "metadata": {},
   "outputs": [
    {
     "name": "stdout",
     "output_type": "stream",
     "text": [
      "1\n",
      "2\n",
      "3\n",
      "5\n",
      "8\n",
      "13\n",
      "21\n",
      "34\n",
      "55\n",
      "89\n",
      "144\n",
      "233\n",
      "377\n",
      "610\n",
      "987\n",
      "1597\n",
      "2584\n",
      "4181\n",
      "6765\n"
     ]
    }
   ],
   "source": [
    "# printing a fib seq with generators \n",
    "from typing import Generator\n",
    "def fib(n:int)-> Generator[int,None,None]:\n",
    "    if n == 0: return n\n",
    "    last : int = 0\n",
    "    next : int = 1\n",
    "    for _ in range(1,n):\n",
    "        last , next = next , next+last\n",
    "        yield next\n",
    "\n",
    "for i in fib(20):\n",
    "    print(f'{i}')\n"
   ]
  },
  {
   "cell_type": "code",
   "execution_count": null,
   "metadata": {},
   "outputs": [],
   "source": []
  }
 ],
 "metadata": {
  "kernelspec": {
   "display_name": "base",
   "language": "python",
   "name": "python3"
  },
  "language_info": {
   "codemirror_mode": {
    "name": "ipython",
    "version": 3
   },
   "file_extension": ".py",
   "mimetype": "text/x-python",
   "name": "python",
   "nbconvert_exporter": "python",
   "pygments_lexer": "ipython3",
   "version": "3.11.5"
  }
 },
 "nbformat": 4,
 "nbformat_minor": 2
}
