{
 "cells": [
  {
   "cell_type": "code",
   "execution_count": 1,
   "metadata": {},
   "outputs": [],
   "source": [
    "class CompressedGene:\n",
    "    def __init__(self,gene:str) -> None:\n",
    "        self.__compress(gene)\n",
    "    def __compress(self, gene:str):\n",
    "        self.bit_string: int = 1 \n",
    "        for nucleotide in gene.upper():\n",
    "            self.bit_string <<= 2 #shifting left by 2 bits  \n",
    "            match nucleotide:\n",
    "                case 'A':\n",
    "                    self.bit_string |= 0b00\n",
    "                case 'C':\n",
    "                    self.bit_string |= 0b01\n",
    "                case 'G':\n",
    "                    self.bit_string |= 0b10\n",
    "                case 'T':\n",
    "                    self.bit_string |= 0b11\n",
    "                case _:\n",
    "                    raise ValueError(f'Invalid Nucleotide {nucleotide}')\n",
    "    def decompress(self) -> str:\n",
    "        gene: str = ''\n",
    "        for i in range(0,self.bit_string.bit_length()-1 ,2): # -1 to exluded sentinel\n",
    "            bits : int = self.bit_string >> i & 0b11 # get 2 relevant bits \n",
    "            match bits:\n",
    "                case 0b00:\n",
    "                    gene += 'A'\n",
    "                case 0b01:\n",
    "                    gene += 'C'\n",
    "                case 0b10:\n",
    "                    gene += 'G'\n",
    "                case 0b11:\n",
    "                    gene += 'T'\n",
    "                case _:\n",
    "                    raise ValueError(f'Invalid Bits {bits}')\n",
    "        return gene[::-1]\n",
    "    def __string__(self)-> str:\n",
    "        return self.decompress()\n"
   ]
  },
  {
   "cell_type": "code",
   "execution_count": 3,
   "metadata": {},
   "outputs": [
    {
     "name": "stdout",
     "output_type": "stream",
     "text": [
      "Original is of 8649 bytes\n",
      "Compressed is of 2320 bytes\n",
      "Original and decompressed are both same: True\n"
     ]
    }
   ],
   "source": [
    "\n",
    "from sys import getsizeof\n",
    "original : str = 'TAGGGATTAACCGTTATATATATATAGCCATGGATCGATTATATAGGGATTAACCGTTATATATATATAGCCATGGATCGATTATA' * 100\n",
    "print(f'Original is of {getsizeof(original)} bytes')\n",
    "compressed : CompressedGene = CompressedGene(original)\n",
    "print(f'Compressed is of {getsizeof(compressed.bit_string)} bytes')\n",
    "print(f'Original and decompressed are both same: {original==compressed.decompress()}')\n",
    "\n",
    "\n"
   ]
  },
  {
   "cell_type": "code",
   "execution_count": null,
   "metadata": {},
   "outputs": [],
   "source": []
  }
 ],
 "metadata": {
  "kernelspec": {
   "display_name": "base",
   "language": "python",
   "name": "python3"
  },
  "language_info": {
   "codemirror_mode": {
    "name": "ipython",
    "version": 3
   },
   "file_extension": ".py",
   "mimetype": "text/x-python",
   "name": "python",
   "nbconvert_exporter": "python",
   "pygments_lexer": "ipython3",
   "version": "3.11.5"
  }
 },
 "nbformat": 4,
 "nbformat_minor": 2
}
