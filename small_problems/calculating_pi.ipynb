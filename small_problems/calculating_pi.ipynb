{
 "cells": [
  {
   "cell_type": "markdown",
   "metadata": {},
   "source": [
    "The mathematically significant number pi (π or 3.14159…) can be derived using\n",
    "many formulas. One of the simplest is the Leibniz formula. It posits that the convergence\n",
    "of the following infinite series is equal to pi:\n",
    "```\n",
    "π = 4/1 - 4/3 + 4/5 - 4/7 + 4/9 - 4/11...\n",
    "```\n",
    "You will notice that the infinite series’ numerator remains 4 while the denominator\n",
    "increases by 2, and the operation on the terms alternates between addition and\n",
    "subtraction.\n",
    "\n",
    "We can model the series in a straightforward way by translating pieces of the formula\n",
    "into variables in a function. The numerator can be a constant 4. The denominator\n",
    "can be a variable that begins at 1 and is incremented by 2. The operation can be\n",
    "represented as either -1 or 1 based on whether we are adding or subtracting. Finally,\n",
    "the variable pi is used in listing 1.19 to collect the sum of the series as the for loop\n",
    "proceeds."
   ]
  },
  {
   "cell_type": "code",
   "execution_count": 3,
   "metadata": {},
   "outputs": [],
   "source": [
    "def calculate_pi(n:int)-> float:\n",
    "    nume : float = 4.0\n",
    "    denom : float = 1.0\n",
    "    op : float = 1.0\n",
    "    pi : float = 0.0\n",
    "    for _ in range(n):\n",
    "        pi += op * (nume / denom)\n",
    "        denom += 2.0\n",
    "        op *= -1.0\n",
    "\n",
    "    return pi\n"
   ]
  },
  {
   "cell_type": "code",
   "execution_count": 5,
   "metadata": {},
   "outputs": [
    {
     "data": {
      "text/plain": [
       "3.1415826535897198"
      ]
     },
     "execution_count": 5,
     "metadata": {},
     "output_type": "execute_result"
    }
   ],
   "source": [
    "calculate_pi(100000)"
   ]
  },
  {
   "cell_type": "markdown",
   "metadata": {},
   "source": [
    "This function is an example of how rote conversion between formula and programmatic\n",
    "code can be both simple and effective in modeling or simulating an interesting\n",
    "concept. Rote conversion is a useful tool, but we must keep in mind that it is not necessarily\n",
    "the most efficient solution. Certainly, the Leibniz formula for pi can be implemented\n",
    "with more efficient or compact code."
   ]
  },
  {
   "cell_type": "markdown",
   "metadata": {},
   "source": []
  }
 ],
 "metadata": {
  "kernelspec": {
   "display_name": "base",
   "language": "python",
   "name": "python3"
  },
  "language_info": {
   "codemirror_mode": {
    "name": "ipython",
    "version": 3
   },
   "file_extension": ".py",
   "mimetype": "text/x-python",
   "name": "python",
   "nbconvert_exporter": "python",
   "pygments_lexer": "ipython3",
   "version": "3.11.5"
  }
 },
 "nbformat": 4,
 "nbformat_minor": 2
}
