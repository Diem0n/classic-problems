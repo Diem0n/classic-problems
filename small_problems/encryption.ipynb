{
 "cells": [
  {
   "cell_type": "code",
   "execution_count": 1,
   "metadata": {},
   "outputs": [
    {
     "data": {
      "text/plain": [
       "124453423092313603592069"
      ]
     },
     "execution_count": 1,
     "metadata": {},
     "output_type": "execute_result"
    }
   ],
   "source": [
    "from secrets import token_bytes\n",
    "from typing import Tuple\n",
    "\n",
    "def random_key(length:int)->int:\n",
    "    tb :  bytes = token_bytes(length)\n",
    "    return int.from_bytes(tb,'big')\n",
    "\n",
    "random_key(10)"
   ]
  },
  {
   "cell_type": "code",
   "execution_count": null,
   "metadata": {},
   "outputs": [],
   "source": [
    "def encrypt(original : str)-> Tuple[int,int]:\n",
    "    original_bytes = original.encode()\n",
    "    dummy : int = random_key(len(original_bytes))\n",
    "    original_key:int = int.from_bytes(original_bytes,'big')\n",
    "    encrypted: int = original_key ^ dummy\n",
    "    return dummy,encrypted\n"
   ]
  }
 ],
 "metadata": {
  "kernelspec": {
   "display_name": "base",
   "language": "python",
   "name": "python3"
  },
  "language_info": {
   "codemirror_mode": {
    "name": "ipython",
    "version": 3
   },
   "file_extension": ".py",
   "mimetype": "text/x-python",
   "name": "python",
   "nbconvert_exporter": "python",
   "pygments_lexer": "ipython3",
   "version": "3.11.5"
  }
 },
 "nbformat": 4,
 "nbformat_minor": 2
}
