{
 "cells": [
  {
   "cell_type": "code",
   "execution_count": 2,
   "metadata": {},
   "outputs": [
    {
     "data": {
      "text/plain": [
       "612543075755363103845981"
      ]
     },
     "execution_count": 2,
     "metadata": {},
     "output_type": "execute_result"
    }
   ],
   "source": [
    "from secrets import token_bytes\n",
    "from typing import Tuple\n",
    "\n",
    "def random_key(length:int)->int:\n",
    "    tb :  bytes = token_bytes(length)\n",
    "    return int.from_bytes(tb,'big')\n",
    "\n",
    "random_key(10)"
   ]
  },
  {
   "cell_type": "code",
   "execution_count": 3,
   "metadata": {},
   "outputs": [],
   "source": [
    "def encrypt(original : str)-> Tuple[int,int]:\n",
    "    original_bytes = original.encode()\n",
    "    dummy : int = random_key(len(original_bytes))\n",
    "    original_key:int = int.from_bytes(original_bytes,'big')\n",
    "    encrypted: int = original_key ^ dummy\n",
    "    return dummy,encrypted\n"
   ]
  },
  {
   "cell_type": "code",
   "execution_count": 5,
   "metadata": {},
   "outputs": [
    {
     "name": "stdout",
     "output_type": "stream",
     "text": [
      "k1: 67686623282171345612346762713680215471694329821494971419694183771\n",
      "k2: 85927925333900033933208015590343993013924110156237103521493013114\n",
      "result: this is a one time padding!\n"
     ]
    }
   ],
   "source": [
    "def decrypt(k1:int , k2:int)-> str:\n",
    "    decrypted : int = k1 ^ k2\n",
    "    temp : bytes = decrypted.to_bytes((decrypted.bit_length() + 7 )// 8 , 'big')\n",
    "    return temp.decode()\n",
    "    # we have to add 7 before using int div to avoid off-by-one bit error \n",
    "\n",
    "k1,k2 = encrypt('this is a one time padding!')\n",
    "result: str = decrypt(k1,k2)\n",
    "print(f'k1: {k1}')\n",
    "print(f'k2: {k2}')\n",
    "print(f'result: {result}')"
   ]
  },
  {
   "cell_type": "code",
   "execution_count": null,
   "metadata": {},
   "outputs": [],
   "source": []
  }
 ],
 "metadata": {
  "kernelspec": {
   "display_name": "base",
   "language": "python",
   "name": "python3"
  },
  "language_info": {
   "codemirror_mode": {
    "name": "ipython",
    "version": 3
   },
   "file_extension": ".py",
   "mimetype": "text/x-python",
   "name": "python",
   "nbconvert_exporter": "python",
   "pygments_lexer": "ipython3",
   "version": "3.11.5"
  }
 },
 "nbformat": 4,
 "nbformat_minor": 2
}
